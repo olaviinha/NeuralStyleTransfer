{
  "nbformat": 4,
  "nbformat_minor": 0,
  "metadata": {
    "colab": {
      "name": "NeuralStyleTransfer_crowsonkb.ipynb",
      "provenance": [],
      "collapsed_sections": [],
      "machine_shape": "hm",
      "mount_file_id": "1wE5zmdOGJHRz73gZxqAHL0ISziVBvSFe",
      "authorship_tag": "ABX9TyNREz2IS3Ty/TA3C//V3HMn",
      "include_colab_link": true
    },
    "kernelspec": {
      "name": "python3",
      "display_name": "Python 3"
    },
    "language_info": {
      "name": "python"
    },
    "accelerator": "GPU"
  },
  "cells": [
    {
      "cell_type": "markdown",
      "metadata": {
        "id": "view-in-github",
        "colab_type": "text"
      },
      "source": [
        "<a href=\"https://colab.research.google.com/github/olaviinha/NeuralStyleTransfer/blob/master/NeuralStyleTransfer_crowsonkb.ipynb\" target=\"_parent\"><img src=\"https://colab.research.google.com/assets/colab-badge.svg\" alt=\"Open In Colab\"/></a>"
      ]
    },
    {
      "cell_type": "markdown",
      "metadata": {
        "id": "-fdH2lltUyWM"
      },
      "source": [
        "#<font face=\"Trebuchet MS\" size=\"6\">Neural Style Transfer <font color=\"#999\" size=\"4\">&nbsp;&nbsp;&nbsp;|&nbsp;&nbsp;&nbsp;</font><font color=\"#999\" size=\"4\">style-transfer-pytorch</font><font color=\"#999\" size=\"4\">&nbsp;&nbsp;&nbsp;|&nbsp;&nbsp;&nbsp;</font><a href=\"https://github.com/olaviinha/NeuralStyleTransfer\" target=\"_blank\"><font color=\"#999\" size=\"4\">Github</font></a>\n",
        "\n",
        "Colab and batch prosessor for a [modified fork](https://github.com/olaviinha/style-transfer-pytorch) of [style-transfer-pytorch](https://github.com/crowsonkb/style-transfer-pytorch) by Katherine Crowson, an implementation of [A Neural Algorithm of Artistic Style](https://arxiv.org/abs/1508.06576). This notebook takes **directories** of content images and style images, and styles each content image with each style image, saving them to output directory. Enter all directory paths relative to your Google Drive root."
      ]
    },
    {
      "cell_type": "code",
      "metadata": {
        "id": "nVdrPhq2GiQY",
        "cellView": "form"
      },
      "source": [
        "#@title #Setup\n",
        "#@markdown This cell needs to be run only once. It will mount your Google Drive and setup prerequisites.\n",
        "\n",
        "force_setup = False\n",
        "pip_packages = 'typer rich gmic'\n",
        "\n",
        "import os\n",
        "from google.colab import output\n",
        "import warnings\n",
        "warnings.filterwarnings('ignore')\n",
        "%cd /content/\n",
        "\n",
        "# inhagcutils\n",
        "if not os.path.isfile('/content/inhagcutils.ipynb') and force_setup == False:\n",
        "  !pip -q install import-ipynb {pip_packages}\n",
        "  !curl -s -O https://raw.githubusercontent.com/olaviinha/inhagcutils/master/inhagcutils.ipynb\n",
        "import import_ipynb\n",
        "from inhagcutils import *\n",
        "\n",
        "# Mount Drive\n",
        "if not os.path.isdir('/content/drive') and force_setup == False:\n",
        "  from google.colab import drive\n",
        "  drive.mount('/content/drive')\n",
        "\n",
        "# Drive symlink\n",
        "if not os.path.isdir('/content/mydrive') and force_setup == False:\n",
        "  os.symlink('/content/drive/My Drive', '/content/mydrive')\n",
        "  drive_root_set = True\n",
        "drive_root = '/content/mydrive/'\n",
        "\n",
        "!pip install torch==1.7.1+cu101 torchvision==0.8.2+cu101 torchaudio==0.7.2 -f https://download.pytorch.org/whl/torch_stable.html\n",
        "!git clone https://github.com/olaviinha/style-transfer-pytorch\n",
        "!pip install -e ./style-transfer-pytorch\n",
        "\n",
        "output.clear()\n",
        "# !nvidia-smi\n",
        "op(c.ok, 'Setup finished.')"
      ],
      "execution_count": null,
      "outputs": []
    },
    {
      "cell_type": "code",
      "metadata": {
        "id": "vH5lUQA-XEML",
        "cellView": "form"
      },
      "source": [
        "#@title # Style transfer\n",
        "content_images_dir = \"ai/st4/in\" #@param {type:\"string\"}\n",
        "style_images_dir = \"ai/st4/style\" #@param {type:\"string\"}\n",
        "output_dir = \"ai/st4/out\" #@param {type:\"string\"}\n",
        "min_scale = 512 #@param {type:\"slider\", min:512, max:2400, step:64}\n",
        "max_scale = 2240 #@param {type:\"slider\", min:512, max:2400, step:64}\n",
        "style_scale_factor = 1 #@param {type:\"slider\", min:0.01, max:10, step:0.01}\n",
        "iterations = 500 #@param {type:\"slider\", min:10, max:1000, step:10}\n",
        "# #@markdown <small>Every nth iteration is saved as separate file. Set to `0` to save only final output.</small>\n",
        "# save_every = 0 #@param {type:\"slider\", min:0, max:500, step:100}\n",
        "# #@markdown <small>Timestamp output files.</small>\n",
        "# timestamp = False #@param {type:\"boolean\"}\n",
        "save_every = 500\n",
        "timestamp = False\n",
        "\n",
        "remove_iterations = False\n",
        "if save_every == 0:\n",
        "  save_every = 500\n",
        "  remove_iterations = True\n",
        "\n",
        "content_images_dir = fix_path(drive_root+content_images_dir)\n",
        "style_images_dir = fix_path(drive_root+style_images_dir)\n",
        "output_dir = fix_path(drive_root+output_dir)\n",
        "\n",
        "image_min = min_scale\n",
        "image_max = max_scale\n",
        "\n",
        "import os, random, string, ntpath\n",
        "from os import listdir\n",
        "from os.path import isfile, join\n",
        "from glob import glob\n",
        "import IPython\n",
        "import requests\n",
        "\n",
        "content_imgs = [f for f in listdir(content_images_dir) if isfile(join(content_images_dir, f))]\n",
        "style_imgs = [f for f in listdir(style_images_dir) if isfile(join(style_images_dir, f))]\n",
        "\n",
        "content_imgs.sort()\n",
        "style_imgs.sort()\n",
        "\n",
        "if timestamp is True:\n",
        "  uniq_id = datetime.today().strftime('%Y%m%d%H%M%S')\n",
        "else:\n",
        "  uniq_id = requests.get('https://api.inha.asia/k/?type=short').text\n",
        "\n",
        "%cd \"{output_dir}\"\n",
        "for content_img in content_imgs:\n",
        "  content_img_name = content_img\n",
        "  content_img = content_images_dir+content_img\n",
        "  for style_img in style_imgs:\n",
        "    op(c.title, 'Styling '+content_img_name+' with '+style_img)\n",
        "    style_img = style_images_dir+style_img\n",
        "    output_img = output_dir + \"NST_\" + slug(basename(content_img)) + '_' + slug(basename(style_img)) + '__' + uniq_id + '.png'\n",
        "    !style_transfer \"{content_img}\" \"{style_img}\" --output \"{output_img}\" --save-every {save_every} --min-scale {image_min} --end-scale {image_max} --iterations {iterations}\n",
        "    #IPython.display.Image(output_img)\n",
        "\n",
        "if remove_iterations is True:\n",
        "  output_imgs = [f for f in listdir(output_dir) if isfile(join(output_dir, f))]\n",
        "  for output_img in output_imgs:\n",
        "    if '_iter_' in output_img:\n",
        "      !rm \"{output_dir}{output_img}\"\n",
        "      \n",
        "op(c.ok, 'FIN.')"
      ],
      "execution_count": null,
      "outputs": []
    }
  ]
}